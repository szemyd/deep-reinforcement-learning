{
 "cells": [
  {
   "source": [
    "# DDPG Agent "
   ],
   "cell_type": "markdown",
   "metadata": {}
  },
  {
   "source": [
    "## Import necessary modules"
   ],
   "cell_type": "markdown",
   "metadata": {}
  },
  {
   "cell_type": "code",
   "execution_count": null,
   "metadata": {},
   "outputs": [],
   "source": [
    "!pip -q install ./python"
   ]
  },
  {
   "cell_type": "code",
   "execution_count": 1,
   "metadata": {},
   "outputs": [
    {
     "output_type": "stream",
     "name": "stdout",
     "text": [
      "\n--- General Training parameters ---\nDEVICE:  cuda:0\nSCORES_WINDOW:  100\nSAVE_PATH:  Trained_Agents/\nSAVE_EXP_PATH:  Experiments/\n\n--- Replay Buffer parameters ---\nBUFFER_SIZE:  100000\nUPDATE_EVERY:  4\nBATCH_SIZE:  100\n\n--- Learning parameters ---\nGAMMA:  0.99\nLR_ACTOR:  0.0001\nLR_CRITIC:  0.0001\nCRITERION:  <function mse_loss at 0x00000237C2FD5EA0>\nWEIGHT_DECAY:  0\nTAU:  0.001\n\n--- OUNoise ---\nMU:  0.0\nTHETA:  0.15\nSIGMA:  0.05\n"
     ]
    }
   ],
   "source": [
    "# --- General NN and math libraries --- #\n",
    "import numpy as np\n",
    "import torch\n",
    "\n",
    "# --- For Measuring performance --- #\n",
    "from collections import deque\n",
    "from statistics import mean, stdev\n",
    "import matplotlib.pyplot as plt\n",
    "\n",
    "# --- For Loading the environment --- #\n",
    "# from e_env import environment_loader\n",
    "\n",
    "# --- For plotting and saving --- #\n",
    "from constants import *             # Capital lettered variables are constants from the constants.py file\n",
    "import time\n",
    "import csv\n",
    "from monitor import render_save_graph, save_scores, read_scores\n",
    "print_constants()\n",
    "\n",
    "# --- Loading and Nameing utilities --- #\n",
    "from helper import load_previous, get_constant_string"
   ]
  },
  {
   "cell_type": "code",
   "execution_count": 2,
   "metadata": {},
   "outputs": [],
   "source": [
    "# --- For Loading the agent --- #\n",
    "# We don't need to reimport the agent everytime we change one of it's values\n",
    "#%load_ext autoreload\n",
    "#%autoreload 2\n",
    "from a_agent import DDPG_Agent"
   ]
  },
  {
   "source": [
    "## Load Environment\n",
    "Environment is loaded with a helper function in ENV.py\n",
    "The helper function returns the envrionment object, the state size and action size, the brain's name and how many agents there are in the environment"
   ],
   "cell_type": "markdown",
   "metadata": {}
  },
  {
   "cell_type": "code",
   "execution_count": 3,
   "metadata": {},
   "outputs": [
    {
     "output_type": "stream",
     "name": "stderr",
     "text": [
      "INFO:unityagents:\n",
      "'Academy' started successfully!\n",
      "Unity Academy name: Academy\n",
      "        Number of Brains: 1\n",
      "        Number of External Brains : 1\n",
      "        Lesson number : 0\n",
      "        Reset Parameters :\n",
      "\t\tgoal_size -> 5.0\n",
      "\t\tgoal_speed -> 1.0\n",
      "Unity brain name: ReacherBrain\n",
      "        Number of Visual Observations (per agent): 0\n",
      "        Vector Observation space type: continuous\n",
      "        Vector Observation space size (per agent): 33\n",
      "        Number of stacked Vector Observation: 1\n",
      "        Vector Action space type: continuous\n",
      "        Vector Action space size (per agent): 4\n",
      "        Vector Action descriptions: , , , \n",
      "Number of agents: 1\n",
      "Size of each action: 4\n",
      "There are 1 agents. Each observes a state with length: 33\n",
      "The state for the first agent looks like: [ 0.00000000e+00 -4.00000000e+00  0.00000000e+00  1.00000000e+00\n",
      " -0.00000000e+00 -0.00000000e+00 -4.37113883e-08  0.00000000e+00\n",
      "  0.00000000e+00  0.00000000e+00  0.00000000e+00  0.00000000e+00\n",
      "  0.00000000e+00  0.00000000e+00 -1.00000000e+01  0.00000000e+00\n",
      "  1.00000000e+00 -0.00000000e+00 -0.00000000e+00 -4.37113883e-08\n",
      "  0.00000000e+00  0.00000000e+00  0.00000000e+00  0.00000000e+00\n",
      "  0.00000000e+00  0.00000000e+00  5.75471878e+00 -1.00000000e+00\n",
      "  5.55726671e+00  0.00000000e+00  1.00000000e+00  0.00000000e+00\n",
      " -1.68164849e-01]\n"
     ]
    }
   ],
   "source": [
    "env, state_size, action_size, brain_name, num_agents = environment_loader('/data/Reacher_One_Linux_NoVis/Reacher_One_Linux_NoVis.x86_64')##, no_graphics = True)"
   ]
  },
  {
   "source": [
    "# Train Agent"
   ],
   "cell_type": "markdown",
   "metadata": {}
  },
  {
   "cell_type": "code",
   "execution_count": 4,
   "metadata": {},
   "outputs": [],
   "source": [
    "score_history = []\n"
   ]
  },
  {
   "cell_type": "code",
   "execution_count": 5,
   "metadata": {},
   "outputs": [],
   "source": [
    "def DDPG_train(agent, env, max_t=100, num_episodes = 1, scores_window=SCORES_WINDOW, existing_score=[]):\n",
    "    [score_history.append(i) for i in existing_score]\n",
    "    print(\"Continuing training -> initial Score History length: \", len(score_history))\n",
    "    \n",
    "    scores_deque = deque(score_history[-scores_window:], maxlen=scores_window)\n",
    "    last_running_mean = float('-inf')\n",
    "\n",
    "    for episode in range(num_episodes):\n",
    "        env_info = env.reset(train_mode=True)[brain_name]      # reset the environment    \n",
    "        agent.reset()                                          # reset the noise in the agent\n",
    "        states = env_info.vector_observations                  # get the current state (for each agent)\n",
    "        scores = np.zeros(num_agents)                          # initialize the score (for each agent)\n",
    "        score = 0\n",
    "\n",
    "        for i in range(max_t):\n",
    "            actions = agent.act(states[0])                     # select an action (for each agent)\n",
    "            env_info = env.step(actions)[brain_name]           # send all actions to the environment\n",
    "            \n",
    "            next_states = env_info.vector_observations         # get next state (for each agent)\n",
    "            rewards = env_info.rewards                         # get reward (for each agent)\n",
    "            dones = env_info.local_done                        # see if episode finished\n",
    "\n",
    "            agent.step(states[0], actions, rewards[0], next_states[0], dones[0])\n",
    "\n",
    "            score += env_info.rewards[0]\n",
    "\n",
    "            states = next_states                               # roll over states to next time step\n",
    "            if np.any(dones):                                  # exit loop if episode finished\n",
    "                break\n",
    "        \n",
    "\n",
    "        #returns_in_episode = np.mean(scores)\n",
    "        returns_in_episode = score\n",
    "        scores_deque.append(returns_in_episode)\n",
    "        score_history.append(returns_in_episode)\n",
    "        if episode > scores_window:\n",
    "            if mean(scores_deque) > last_running_mean:\n",
    "                    print(\"\")\n",
    "                    print('Last {} was better, going to save it'.format(scores_window))\n",
    "                    _, filename = get_constant_string()\n",
    "                    torch.save(new_agent.actor_local.state_dict(), '{}/{}_actor.pth'.format(SAVE_PATH, filename))\n",
    "                    torch.save(new_agent.critic_local.state_dict(), '{}/{}_critic.pth'.format(SAVE_PATH, filename))\n",
    "                    last_running_mean = mean(scores_deque)\n",
    "\n",
    "        print(\"\\r\", 'Total score (averaged over agents) {} episode: {} | \\tAvarage in last {} is {}'.format(episode, returns_in_episode, scores_window, np.mean(scores_deque)), end=\"\")\n",
    "\n",
    "\n",
    "    render_save_graph(score_history, scores_window = SCORES_WINDOW, goal=30.)\n",
    "    save_scores(score_history, path=SAVE_EXP_PATH)\n",
    "\n",
    "    return score_history"
   ]
  },
  {
   "cell_type": "code",
   "execution_count": 6,
   "metadata": {},
   "outputs": [
    {
     "output_type": "stream",
     "name": "stdout",
     "text": [
      "\n--- Agent Params ---\nGoing to train on cuda:0\nLearning Rate:: Actor: 0.0001 | Critic: 0.0001\nReplay Buffer:: Buffer Size: 100000 | Sampled Batch size: 100\n\nActor paramaters:: Input: 33 | Hidden Layers: [48, 48] | Output: 4\nCritic paramaters:: Input: 33 | Hidden Layers: [52, 48] | Output: 1\nActor(\n  (fc_in): Linear(in_features=33, out_features=48, bias=True)\n  (hidden_layers): ModuleList(\n    (0): Linear(in_features=48, out_features=48, bias=True)\n  )\n  (fc_out): Linear(in_features=48, out_features=4, bias=True)\n)\nCritic(\n  (fc_in): Linear(in_features=33, out_features=48, bias=True)\n  (hidden_layers): ModuleList(\n    (0): Linear(in_features=52, out_features=48, bias=True)\n  )\n  (fc_out): Linear(in_features=48, out_features=1, bias=True)\n)\n\n\n"
     ]
    }
   ],
   "source": [
    "new_agent = DDPG_Agent(state_size, action_size, random_seed = 1, actor_hidden = ACTOR_H, critic_hidden=CRITIC_H)"
   ]
  },
  {
   "cell_type": "code",
   "execution_count": null,
   "metadata": {
    "tags": []
   },
   "outputs": [],
   "source": [
    "score_history = DDPG_train(new_agent, env, max_t = 1001, num_episodes = 750, scores_window=SCORES_WINDOW)"
   ]
  },
  {
   "source": [
    "# Display and Save results"
   ],
   "cell_type": "markdown",
   "metadata": {}
  },
  {
   "cell_type": "code",
   "execution_count": null,
   "metadata": {},
   "outputs": [],
   "source": [
    "render_save_graph(score_history, scores_window = SCORES_WINDOW, goal=30.)"
   ]
  },
  {
   "cell_type": "code",
   "execution_count": null,
   "metadata": {},
   "outputs": [],
   "source": [
    "save_scores(score_history, path=SAVE_EXP_PATH)"
   ]
  },
  {
   "cell_type": "code",
   "execution_count": null,
   "metadata": {},
   "outputs": [],
   "source": [
    "new_score_history = DDPG_train(new_agent, env, max_t = 1001, num_episodes = 500, scores_window=SCORES_WINDOW, existing_score=score_history)"
   ]
  },
  {
   "source": [
    "# Continue last saved run\n",
    "The next to cells \n",
    "- Import the scores of the last run\n",
    "- If we saved weights of the Neural Net load those\n",
    "- Continue training from last place"
   ],
   "cell_type": "markdown",
   "metadata": {}
  },
  {
   "cell_type": "code",
   "execution_count": null,
   "metadata": {},
   "outputs": [],
   "source": [
    "new_agent = load_previous(new_agent)"
   ]
  },
  {
   "cell_type": "code",
   "execution_count": null,
   "metadata": {},
   "outputs": [],
   "source": [
    "network_name='Scores_2021-04-17_2257_A_128 128 - C_128 128'\n",
    "read_score_history = read_scores(network_name=network_name, path=SAVE_EXP_PATH)\n",
    "\n",
    "render_save_graph(read_score_history, scores_window = SCORES_WINDOW, goal=30.) # Check how it looks"
   ]
  },
  {
   "cell_type": "code",
   "execution_count": null,
   "metadata": {},
   "outputs": [],
   "source": [
    "new_score_history = DDPG_train(new_agent, env, max_t = 1001, num_episodes = 150, existing_score=read_score_history, scores_window=SCORES_WINDOW)"
   ]
  },
  {
   "cell_type": "code",
   "execution_count": null,
   "metadata": {},
   "outputs": [],
   "source": [
    "render_graph(new_score_history, scores_window = SCORES_WINDOW)"
   ]
  },
  {
   "cell_type": "code",
   "execution_count": null,
   "metadata": {},
   "outputs": [],
   "source": [
    "save_scores(new_score_history, path=SAVE_EXP_PATH)"
   ]
  },
  {
   "source": [
    "# See how the agent performs"
   ],
   "cell_type": "markdown",
   "metadata": {}
  },
  {
   "cell_type": "code",
   "execution_count": null,
   "metadata": {
    "tags": []
   },
   "outputs": [],
   "source": [
    "new_agent = DDPG_Agent(state_size, action_size, random_seed = 3, actor_hidden = ACTOR_H, critic_hidden=CRITIC_H)\n",
    "new_agent = load_previous(new_agent)"
   ]
  },
  {
   "cell_type": "code",
   "execution_count": null,
   "metadata": {},
   "outputs": [],
   "source": [
    "def DDPG_eval(agent, env, max_t=100):\n",
    "    env_info = env.reset(train_mode=False)[brain_name]     # reset the environment    \n",
    "    states = env_info.vector_observations                  # get the current state (for each agent)\n",
    "    scores = np.zeros(num_agents)                          # initialize the score (for each agent)\n",
    "    episode_length = 0                                     # measure number of steps allowed before done flag\n",
    "    for i in range(max_t):\n",
    "        # actions = np.random.randn(num_agents, action_size) # select an action (for each agent); randomly!\n",
    "        actions =  np.random.randn(num_agents, action_size) if agent is None else agent.act(states[0]) # select an action (for each agent)\n",
    "        actions = np.clip(actions, -1, 1)                  # all actions between -1 and 1\n",
    "        env_info = env.step(actions)[brain_name]           # send all actions to the environment\n",
    "        next_states = env_info.vector_observations         # get next state (for each agent)\n",
    "        rewards = env_info.rewards                         # get reward (for each agent)\n",
    "        dones = env_info.local_done                        # see if episode finished\n",
    "        scores += env_info.rewards                         # update the score (for each agent)\n",
    "        states = next_states                               # roll over states to next time step\n",
    "        episode_length +=1\n",
    "        if np.any(dones):                                  # exit loop if episode finished\n",
    "            break\n",
    "    print('Episode length is {}'.format(episode_length))\n",
    "    print('Total score (averaged over agents) this episode: {}'.format(np.mean(scores)))"
   ]
  },
  {
   "cell_type": "code",
   "execution_count": null,
   "metadata": {},
   "outputs": [],
   "source": [
    "DDPG_eval(new_agent, env, max_t = 100000000000)"
   ]
  },
  {
   "cell_type": "code",
   "execution_count": null,
   "metadata": {},
   "outputs": [],
   "source": [
    "env.close()"
   ]
  }
 ],
 "metadata": {
  "kernelspec": {
   "name": "python3612jvsc74a57bd021b14e6ae810b98687c42101764fbc6ed2f749f10b37141b42930ea65db4f89b",
   "display_name": "Python 3.6.12 64-bit ('drlnd': conda)"
  }
 },
 "nbformat": 4,
 "nbformat_minor": 2
}